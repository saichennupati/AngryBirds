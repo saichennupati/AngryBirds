{
  "nbformat": 4,
  "nbformat_minor": 0,
  "metadata": {
    "colab": {
      "provenance": [],
      "authorship_tag": "ABX9TyPy9W+pSYtlEUrR9m/z9Ik7",
      "include_colab_link": true
    },
    "kernelspec": {
      "name": "python3",
      "display_name": "Python 3"
    },
    "language_info": {
      "name": "python"
    }
  },
  "cells": [
    {
      "cell_type": "markdown",
      "metadata": {
        "id": "view-in-github",
        "colab_type": "text"
      },
      "source": [
        "<a href=\"https://colab.research.google.com/github/saichennupati/AngryBirds/blob/master/Untitled0.ipynb\" target=\"_parent\"><img src=\"https://colab.research.google.com/assets/colab-badge.svg\" alt=\"Open In Colab\"/></a>"
      ]
    },
    {
      "cell_type": "code",
      "source": [
        "x=int(input(\"What is your planned budget for this month?\"))\n",
        "expense= int(input(\"What is your expense on a primary thing?\"))\n",
        "\n",
        "while expense < x:\n",
        "    other=int(input(\"You are still under budget, what about others?\"))\n",
        "    expense=other+expense\n",
        "    total=expense\n",
        "if total ==x:\n",
        "    print(\"You are correctly on the budget!\")\n",
        "#elif total<=x:\n",
        "    #print(\"You are under budget!\")\n",
        "elif total >=x:\n",
        "    print(\"You are over budget!\")"
      ],
      "metadata": {
        "colab": {
          "base_uri": "https://localhost:8080/"
        },
        "id": "q0ntLRqrkrwu",
        "outputId": "18ff20c1-12bc-4737-e33b-3aaec6e44a41"
      },
      "execution_count": 2,
      "outputs": [
        {
          "output_type": "stream",
          "name": "stdout",
          "text": [
            "What is your planned budget for this month?50\n",
            "What is your expense on a primary thing?20\n",
            "You are still under budget, what about others?19\n",
            "You are still under budget, what about others?29\n",
            "You are over budget!\n"
          ]
        }
      ]
    }
  ]
}